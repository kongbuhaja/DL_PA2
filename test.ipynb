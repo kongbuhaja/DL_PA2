{
 "cells": [
  {
   "cell_type": "code",
   "execution_count": 1,
   "metadata": {},
   "outputs": [],
   "source": [
    "import os, random\n",
    "random.seed(42)"
   ]
  },
  {
   "cell_type": "code",
   "execution_count": 2,
   "metadata": {},
   "outputs": [],
   "source": [
    "file = os.listdir('datasets/kaist-rgbt/train/images/visible')\n",
    "random.shuffle(file)\n",
    "idx = 2000\n",
    "valid = sorted(file[:idx])\n",
    "train = sorted(file[idx:])"
   ]
  },
  {
   "cell_type": "code",
   "execution_count": 3,
   "metadata": {},
   "outputs": [
    {
     "data": {
      "text/plain": [
       "(10538, 2000)"
      ]
     },
     "execution_count": 3,
     "metadata": {},
     "output_type": "execute_result"
    }
   ],
   "source": [
    "len(train), len(valid)"
   ]
  },
  {
   "cell_type": "code",
   "execution_count": 3,
   "metadata": {},
   "outputs": [],
   "source": [
    "dir = 'datasets/kaist-rgbt'\n",
    "for typ in ['train', 'valid']:\n",
    "    data = train if typ=='train' else valid\n",
    "    with open(f'{dir}/{typ}.txt', 'w') as f:\n",
    "        for file in data:\n",
    "            f.write(f'{dir}/train/' + 'images/{}/' + file + '\\n')"
   ]
  },
  {
   "cell_type": "code",
   "execution_count": 4,
   "metadata": {},
   "outputs": [
    {
     "data": {
      "text/plain": [
       "({'person': 0, 'cyclist': 1, 'people': 2, 'person?': 3}, [])"
      ]
     },
     "execution_count": 4,
     "metadata": {},
     "output_type": "execute_result"
    }
   ],
   "source": [
    "import yaml\n",
    "\n",
    "with open('data/kaist-rgbt.yaml') as f:\n",
    "    data = yaml.load(f, Loader=yaml.FullLoader)\n",
    "    categories_dict = dict((v,k) for k, v in data['names'].items())\n",
    "categories_dict\n",
    "ignores = [categories_dict[ignore] for ignore in []]\n",
    "categories_dict, ignores"
   ]
  },
  {
   "cell_type": "code",
   "execution_count": 5,
   "metadata": {},
   "outputs": [],
   "source": [
    "import xml.etree.ElementTree as ET\n",
    "import json\n",
    "\n",
    "path = f'{dir}/train/labels-xml'\n",
    "\n",
    "def extract_label(data, path=path):\n",
    "    images = []\n",
    "    annotations = []\n",
    "\n",
    "    anno_id = 0\n",
    "    for img_id, file in enumerate(data):\n",
    "        name = file.split('.')[0]\n",
    "        file = f'{path}/{name}.xml'\n",
    "        tree = ET.parse(file)\n",
    "        filename = tree.find('filename').text\n",
    "        height = int(tree.find('size').find('height').text)\n",
    "        width = int(tree.find('size').find('width').text)\n",
    "        objects = tree.findall('object')\n",
    "        img = {\"id\": img_id,\n",
    "            \"im_name\": filename,\n",
    "            \"height\": height,\n",
    "            \"width\": width}\n",
    "        images += [img]\n",
    "        for object in objects:\n",
    "            category_id = categories_dict[object.find('name').text]\n",
    "            bndbox = [int(object.find('bndbox').find('x').text),\n",
    "                    int(object.find('bndbox').find('y').text),\n",
    "                    int(object.find('bndbox').find('w').text),\n",
    "                    int(object.find('bndbox').find('h').text)]\n",
    "            height = bndbox[-1]\n",
    "            occlusion = int(object.find('occlusion').text)\n",
    "            ignore = 0 if category_id not in ignores else 1\n",
    "            annotation = {\"id\": anno_id,\n",
    "                        \"image_id\": img_id,\n",
    "                        \"category_id\": category_id,\n",
    "                        \"bbox\": bndbox,\n",
    "                        \"height\": height,\n",
    "                        \"occlusion\": occlusion,\n",
    "                        \"ignore\": ignore}\n",
    "            annotations += [annotation]\n",
    "            anno_id += 1\n",
    "\n",
    "    return images, annotations\n",
    "\n",
    "def extract_categries(categories_dict):\n",
    "    categories = []\n",
    "    categories_dict['__ignore__'] = -1\n",
    "    for name, id in categories_dict.items():\n",
    "        categories += [{\"id\": id+1,\n",
    "                    \"name\": name}]\n",
    "    categories.sort(key = lambda x: x['id'])\n",
    "    return categories"
   ]
  },
  {
   "cell_type": "code",
   "execution_count": 6,
   "metadata": {},
   "outputs": [],
   "source": [
    "import numpy as np\n",
    "import cv2\n",
    "import matplotlib.pyplot as plt\n",
    "\n",
    "def box_iou_wh(wh1, wh2):\n",
    "    inter_section = np.minimum(wh1, wh2)\n",
    "    inter_area = np.prod(inter_section, axis=-1)\n",
    "    union_area = np.prod(wh1, axis=-1) + np.prod(wh2, axis=-1) - inter_area\n",
    "    return inter_area / (union_area + 1e-6)\n",
    "\n",
    "def kmeans(wh, k):\n",
    "    np.random.seed(42)\n",
    "    np.random.shuffle(wh)\n",
    "    n = wh.shape[0]\n",
    "    last_cluster = np.zeros((n,), dtype=np.int64)\n",
    "    clusters = wh[:k]\n",
    "\n",
    "    while True:\n",
    "        distances = 1 - box_iou_wh(wh[:, None], clusters)\n",
    "        nearest = np.argmin(distances, axis=1)\n",
    "        if np.all(last_cluster == nearest):\n",
    "            break\n",
    "        for idx in range(k):\n",
    "            clusters[idx] = np.mean(wh[nearest == idx], axis=0)\n",
    "\n",
    "        last_cluster = nearest\n",
    "        \n",
    "    prod = np.prod(clusters, axis=-1)\n",
    "    idx = np.argsort(prod)\n",
    "    return clusters[idx]\n",
    "\n",
    "def ransac(wh, k, th=0.5, time=500):\n",
    "    np.random.seed(42)\n",
    "    inliner = wh[:k].copy()\n",
    "    for i in range(time):\n",
    "        np.random.shuffle(wh)\n",
    "        clusters = wh[:k]\n",
    "        distances = 1 - box_iou_wh(wh[:, None], clusters)\n",
    "        min_distances = np.min(distances, -1)\n",
    "        temp = wh[min_distances < th]\n",
    "        if inliner.shape[0] < temp.shape[0]:\n",
    "            inliner = temp.copy()\n",
    "    print(f'{inliner.shape[0]/wh.shape[0]*100:.2f}%')\n",
    "    return inliner\n",
    "\n",
    "def draw_anchor(anchors, img_size=416):\n",
    "    np.random.seed(42)\n",
    "    bg = np.zeros((img_size, img_size, 3), np.uint8) + 255\n",
    "    c = np.array(bg.shape[:2])//2\n",
    "    def draw_box(a):\n",
    "        p1, p2, = c - a//2, c + a//2\n",
    "        cv2.rectangle(bg, p1, p2, [np.random.randint(0, 255) for x in range(3)], 2)\n",
    "    for anchor in anchors:\n",
    "        for i in range(len(anchor)//2):\n",
    "            draw_box(anchor[i*2:(i+1)*2])\n",
    "    plt.imshow(bg)\n",
    "    plt.show()"
   ]
  },
  {
   "cell_type": "code",
   "execution_count": 7,
   "metadata": {},
   "outputs": [
    {
     "data": {
      "image/png": "[encoded data removed]",
      "text/plain": [
       "<Figure size 640x480 with 1 Axes>"
      ]
     },
     "metadata": {},
     "output_type": "display_data"
    }
   ],
   "source": [
    "anchors = np.array([[10, 13, 16, 30, 33, 23], [30, 61, 62, 45, 59, 119], [116, 90, 156, 198, 373, 326]])\n",
    "draw_anchor(anchors)"
   ]
  },
  {
   "cell_type": "code",
   "execution_count": 8,
   "metadata": {},
   "outputs": [
    {
     "name": "stdout",
     "output_type": "stream",
     "text": [
      "99.03%\n",
      "[[ 22  43  25  57  47  50]\n",
      " [ 33  74  42  91  47 115]\n",
      " [ 61 141 181  54  80 202]]\n"
     ]
    },
    {
     "data": {
      "image/png": "[encoded data removed]",
      "text/plain": [
       "<Figure size 640x480 with 1 Axes>"
      ]
     },
     "metadata": {},
     "output_type": "display_data"
    }
   ],
   "source": [
    "# train data\n",
    "images, annotations = extract_label(train)\n",
    "\n",
    "whs = []\n",
    "for annotation in annotations:\n",
    "    whs += [annotation['bbox'][2:]]\n",
    "\n",
    "inliner = ransac(np.array(whs)/640, 10, 0.5)\n",
    "anchors = np.ceil(kmeans(inliner, 9) * 640).astype(np.int32).reshape((3,6))\n",
    "print(anchors)\n",
    "draw_anchor(anchors)"
   ]
  },
  {
   "cell_type": "code",
   "execution_count": 9,
   "metadata": {},
   "outputs": [
    {
     "name": "stdout",
     "output_type": "stream",
     "text": [
      "category_id 0, 8699\n",
      "category_id 1, 1056\n",
      "category_id 2, 1203\n",
      "category_id 3, 190\n"
     ]
    }
   ],
   "source": [
    "anno = [[] for _ in range(len(categories_dict.values()))]\n",
    "for i, annotation in enumerate(annotations):\n",
    "    anno[annotation['category_id']] += [annotation['bbox'][2:]]\n",
    "\n",
    "for i, bboxes in enumerate(anno):\n",
    "    print(f'category_id {i}, {len(bboxes)}')"
   ]
  },
  {
   "cell_type": "code",
   "execution_count": 10,
   "metadata": {},
   "outputs": [
    {
     "data": {
      "text/plain": [
       "3168"
      ]
     },
     "execution_count": 10,
     "metadata": {},
     "output_type": "execute_result"
    }
   ],
   "source": [
    "import random\n",
    "m = min([len(l) for l in anno[:-1]])\n",
    "sq_whs = []\n",
    "for a in anno[:-1]:\n",
    "    sq_whs += [*random.sample(a, k=m)]\n",
    "\n",
    "len(sq_whs)"
   ]
  },
  {
   "cell_type": "code",
   "execution_count": 11,
   "metadata": {},
   "outputs": [
    {
     "name": "stdout",
     "output_type": "stream",
     "text": [
      "99.37%\n",
      "[[ 23  45  43  44  30  63]\n",
      " [ 41  79  45 101 102  51]\n",
      " [ 59 125 211  56  82 188]]\n"
     ]
    },
    {
     "data": {
      "image/png": "[encoded data removed]",
      "text/plain": [
       "<Figure size 640x480 with 1 Axes>"
      ]
     },
     "metadata": {},
     "output_type": "display_data"
    }
   ],
   "source": [
    "inliner = ransac(np.array(sq_whs)/640, 10, 0.5)\n",
    "anchors = np.ceil(kmeans(inliner, 9) * 640).astype(np.int32).reshape((3,6))\n",
    "print(anchors)\n",
    "draw_anchor(anchors)"
   ]
  },
  {
   "cell_type": "code",
   "execution_count": 12,
   "metadata": {},
   "outputs": [],
   "source": [
    "# valid data\n",
    "images, annotations = extract_label(valid)\n",
    "categories = extract_categries(categories_dict)\n",
    "\n",
    "data = {\"images\": images,\n",
    "        \"annotations\": annotations,\n",
    "        \"categories\": categories}\n",
    "\n",
    "json_file = 'utils/eval/KAIST_annotation.json'\n",
    "anno_dir = 'datasets/kaist-rgbt/annotations'\n",
    "# ex = f'{anno_dir}/instances_val2017.json'\n",
    "if not os.path.exists(anno_dir):\n",
    "    os.makedirs(anno_dir)\n",
    "with open(json_file, 'w') as f:\n",
    "    json.dump(data, f, indent=2)\n",
    "# with open(ex, 'w') as f:\n",
    "#     json.dump(data, f, indent=2)"
   ]
  }
 ],
 "metadata": {
  "kernelspec": {
   "display_name": "Python 3",
   "language": "python",
   "name": "python3"
  },
  "language_info": {
   "codemirror_mode": {
    "name": "ipython",
    "version": 3
   },
   "file_extension": ".py",
   "mimetype": "text/x-python",
   "name": "python",
   "nbconvert_exporter": "python",
   "pygments_lexer": "ipython3",
   "version": "3.10.12"
  }
 },
 "nbformat": 4,
 "nbformat_minor": 2
}
